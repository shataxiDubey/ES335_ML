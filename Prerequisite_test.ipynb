{
 "cells": [
  {
   "cell_type": "code",
   "execution_count": 4,
   "id": "c1117d73",
   "metadata": {},
   "outputs": [],
   "source": [
    "import numpy as np"
   ]
  },
  {
   "cell_type": "markdown",
   "id": "a1bce66a",
   "metadata": {},
   "source": [
    "## 1. How many multiplications and additions do you need to perform a matrix multiplication between a (n, k) and (k, m) matrix? Explain."
   ]
  },
  {
   "cell_type": "markdown",
   "id": "db342840",
   "metadata": {},
   "source": [
    "Number of multiplications in a row = (Number of elements in one row in first matrix) = k\n",
    "\n",
    "Total number of elements in the product = $ n X m $ \n",
    "\n",
    "Total number of multiplications = $ n X m X k $\n",
    "\n",
    "\n",
    "Number of additions in a row = (Number of elements in one row in first matrix) - 1 = k - 1\n",
    "\n",
    "Total number of elements in the product =$ n X m $\n",
    "\n",
    "Total number of multiplications = $ n X m X (k - 1) $"
   ]
  },
  {
   "cell_type": "markdown",
   "id": "93ecc724",
   "metadata": {},
   "source": [
    "## 2. Write Python code to multiply the above two matrices. Solve using list of lists and then use numpy. Compare the timing of both solutions. Which one is faster? Why?"
   ]
  },
  {
   "cell_type": "code",
   "execution_count": 2,
   "id": "2848faa7",
   "metadata": {},
   "outputs": [],
   "source": [
    "def matrix_multiplication(matrix1,matrix2,n,k,m):\n",
    "    matrix3=np.zeros((n,m))\n",
    "    for i in range(n):\n",
    "        for j in range(m):\n",
    "            sum=0\n",
    "            for t in range(k):\n",
    "                sum = sum+ matrix1[i][t] * matrix2[t][j]\n",
    "            matrix3[i,j] = sum\n",
    "    return matrix3"
   ]
  },
  {
   "cell_type": "code",
   "execution_count": 3,
   "id": "d1739b88",
   "metadata": {},
   "outputs": [
    {
     "name": "stdout",
     "output_type": "stream",
     "text": [
      "3.83 ms ± 580 µs per loop (mean ± std. dev. of 7 runs, 100 loops each)\n"
     ]
    }
   ],
   "source": [
    "n,k,m = 30,40,20\n",
    "\n",
    "matrix1 = [[col for col in range(k)] for row in range(n)]\n",
    "matrix2 = [[col for col in range(m)] for row in range(k)]\n",
    "\n",
    "# print(matrix1, '\\n\\n', matrix2, '\\n')\n",
    "\n",
    "out = matrix_multiplication(matrix1,matrix2,n,k,m)\n",
    "# print(out)\n",
    "%timeit matrix_multiplication(matrix1, matrix2, n,k,m)"
   ]
  },
  {
   "cell_type": "code",
   "execution_count": 4,
   "id": "2a559922",
   "metadata": {},
   "outputs": [],
   "source": [
    "def matrix_multiplication_using_numpy(matrix1,matrix2,n,k,m):\n",
    "    matrix3 = np.zeros((n,m),dtype='int')\n",
    "    for i in range(n):\n",
    "        matrix3[i] = np.add.reduce(matrix1[i] * matrix2.T,axis=1)\n",
    "    return matrix3"
   ]
  },
  {
   "cell_type": "code",
   "execution_count": 5,
   "id": "1391e1b3",
   "metadata": {},
   "outputs": [
    {
     "name": "stdout",
     "output_type": "stream",
     "text": [
      "245 µs ± 21.1 µs per loop (mean ± std. dev. of 7 runs, 1,000 loops each)\n"
     ]
    }
   ],
   "source": [
    "rng=np.random.RandomState(2)\n",
    "\n",
    "n,k,m = 30,40,20\n",
    "\n",
    "matrix1 = rng.randint(1,12,(n,k))\n",
    "matrix2 = rng.randint(13,20,(k,m))\n",
    "# print(matrix1,'\\n\\n', matrix2,'\\n')\n",
    "\n",
    "matrix3 = matrix_multiplication_using_numpy(matrix1, matrix2, n,k,m )\n",
    "# print('Matrix Multiplication\\n',matrix3)\n",
    "%timeit matrix_multiplication_using_numpy(matrix1, matrix2, n,k,m)"
   ]
  },
  {
   "cell_type": "markdown",
   "id": "a855dcc1",
   "metadata": {},
   "source": [
    "Matrix multiplication using numpy is faster than lists because numpy stores the elements in a contiguous memory while lists store elements in non-contiguous memory. Because of which there are more number of memory access in lists than in numpy array. "
   ]
  },
  {
   "cell_type": "markdown",
   "id": "54650922",
   "metadata": {},
   "source": [
    "## 3. Finding the highest element in a list requires one pass of the array. Finding the second highest element requires 2 passes of the the array. Using this method, what is the time complexity of finding the median of the array? Can you suggest a better method? Can you implement both these methods in Python and compare against numpy.median routine in terms of time?"
   ]
  },
  {
   "cell_type": "code",
   "execution_count": 6,
   "id": "f696af20",
   "metadata": {},
   "outputs": [],
   "source": [
    "def finding_median(num):\n",
    "    tot = len(num)\n",
    "    \n",
    "    if tot%2==0:\n",
    "        flag = 'even'\n",
    "        med = tot//2 + 1\n",
    "    else:\n",
    "        flag = 'odd'\n",
    "        med = tot//2\n",
    "        \n",
    "    for i in range(med):\n",
    "        max = 0\n",
    "        for j in range(tot - i):\n",
    "               if(num[j]>num[max]):\n",
    "                    max = j\n",
    "                    \n",
    "        temp = num[-1 - i]\n",
    "        num[-1 - i] = num[max]\n",
    "        num[max] = temp\n",
    "        \n",
    "    if flag == 'even':\n",
    "        return (num[med] + num[med - 1])/2\n",
    "    else:\n",
    "        return num[med]"
   ]
  },
  {
   "cell_type": "code",
   "execution_count": 15,
   "id": "84afb535",
   "metadata": {},
   "outputs": [
    {
     "name": "stdout",
     "output_type": "stream",
     "text": [
      "8.94 s ± 252 ms per loop (mean ± std. dev. of 7 runs, 1 loop each)\n"
     ]
    }
   ],
   "source": [
    "num = np.random.randint(1,100000,10000)\n",
    "%timeit finding_median(num)"
   ]
  },
  {
   "cell_type": "code",
   "execution_count": 8,
   "id": "e5f8151d",
   "metadata": {},
   "outputs": [],
   "source": [
    "def finding_median_after_sorting(num):\n",
    "    num.sort()\n",
    "    tot = len(num)\n",
    "    med = tot//2\n",
    "    if tot%2 == 0:\n",
    "        return (num[med] + num[med + 1])/2\n",
    "    else:\n",
    "        return num[med]"
   ]
  },
  {
   "cell_type": "code",
   "execution_count": 16,
   "id": "d46ab76d",
   "metadata": {},
   "outputs": [
    {
     "name": "stdout",
     "output_type": "stream",
     "text": [
      "66.4 µs ± 3.49 µs per loop (mean ± std. dev. of 7 runs, 10,000 loops each)\n"
     ]
    }
   ],
   "source": [
    "num = np.random.randint(1,100000,10000)\n",
    "median = finding_median_after_sorting(num)\n",
    "%timeit finding_median_after_sorting(num)"
   ]
  },
  {
   "cell_type": "code",
   "execution_count": 17,
   "id": "bd095d96",
   "metadata": {},
   "outputs": [
    {
     "name": "stdout",
     "output_type": "stream",
     "text": [
      "83.6 µs ± 5.2 µs per loop (mean ± std. dev. of 7 runs, 10,000 loops each)\n"
     ]
    }
   ],
   "source": [
    "num = np.random.randint(1,100000,10000)\n",
    "%timeit np.median(num)"
   ]
  },
  {
   "cell_type": "markdown",
   "id": "bc69eda5",
   "metadata": {},
   "source": [
    "## 4. What is the gradient of the following function with respect to x and y?\n",
    "\n",
    "$$\n",
    "x^2y + y^3\\sin(x)\n",
    "$$"
   ]
  },
  {
   "cell_type": "markdown",
   "id": "83be070b",
   "metadata": {},
   "source": [
    "Gradient with respect to x\n",
    "$$ \\frac{d}{dx}(x^2y+y^3\\sin(x)) $$\n",
    "$$ = y\\frac{d}{dx}x^2 + y^3\\frac{d}{dx}\\sin(x)$$\n",
    "$$ = 2xy+y^3\\cos(x)$$\n",
    "\n",
    "\n",
    "Gradient with respect to y\n",
    "$$ \\frac{d}{dy}(x^2y+y^3\\sin(x)) $$\n",
    "$$ = x^2\\frac{d}{dy}y + \\sin(x)\\frac{d}{dy}y^3$$\n",
    "$$ = x^2 + 3y^2\\sin(x)$$"
   ]
  },
  {
   "cell_type": "markdown",
   "id": "506be720",
   "metadata": {},
   "source": [
    "## 5. Use JAX to confirm the gradient evaluated by your method matches the analytical solution corresponding to a few random values of x and y"
   ]
  },
  {
   "cell_type": "code",
   "execution_count": 41,
   "id": "47a44905",
   "metadata": {},
   "outputs": [
    {
     "name": "stdout",
     "output_type": "stream",
     "text": [
      "Differentiating with respect to x at x = 1.0 & y = 2.0:  8.322418\n",
      "Differentiating with respect to y at x = 1.0 & y = 2.0: 11.0976515\n"
     ]
    }
   ],
   "source": [
    "import jax.numpy as jnp\n",
    "from jax import grad, random\n",
    "\n",
    "def fun(m,n):\n",
    "    return m**2*n+n**3*jnp.sin(m)\n",
    "\n",
    "dfdx = grad(fun, argnums = 0)\n",
    "print('Differentiating with respect to x at x = 1.0 & y = 2.0: ',dfdx(1.0,2.0))\n",
    "\n",
    "dfdx = grad(fun, argnums = 1)\n",
    "print('Differentiating with respect to y at x = 1.0 & y = 2.0:',dfdx(1.0,2.0))"
   ]
  },
  {
   "cell_type": "code",
   "execution_count": 38,
   "id": "bcc65651",
   "metadata": {},
   "outputs": [
    {
     "name": "stdout",
     "output_type": "stream",
     "text": [
      "8.322418446945118\n",
      "11.097651817694757\n"
     ]
    }
   ],
   "source": [
    "x = 1.0\n",
    "y = 2.0\n",
    "print(2*x*y+y**3*np.cos(x))\n",
    "\n",
    "print(x**2 + 3*y**2*np.sin(x))"
   ]
  },
  {
   "cell_type": "markdown",
   "id": "9f5900cd",
   "metadata": {},
   "source": [
    "## 6. Use sympy to confirm that you obtain the same gradient analytically."
   ]
  },
  {
   "cell_type": "code",
   "execution_count": 177,
   "id": "40909575",
   "metadata": {},
   "outputs": [
    {
     "name": "stdout",
     "output_type": "stream",
     "text": [
      "Differentiating with respect to x\n"
     ]
    },
    {
     "data": {
      "image/png": "[encoded data removed]",
      "text/latex": [
       "$\\displaystyle 2 x y + y^{3} \\cos{\\left(x \\right)}$"
      ],
      "text/plain": [
       "         3       \n",
       "2⋅x⋅y + y ⋅cos(x)"
      ]
     },
     "execution_count": 177,
     "metadata": {},
     "output_type": "execute_result"
    }
   ],
   "source": [
    "from sympy import *\n",
    "x, y = symbols('x y')\n",
    "init_printing(use_unicode=True)\n",
    "print('Differentiating with respect to x')\n",
    "diff(x**2*y+y**3*sin(x), x)"
   ]
  },
  {
   "cell_type": "code",
   "execution_count": 176,
   "id": "2fc3df9e",
   "metadata": {},
   "outputs": [
    {
     "name": "stdout",
     "output_type": "stream",
     "text": [
      "Differentiating with respect to y\n"
     ]
    },
    {
     "data": {
      "image/png": "[encoded data removed]",
      "text/latex": [
       "$\\displaystyle x^{2} + 3 y^{2} \\sin{\\left(x \\right)}$"
      ],
      "text/plain": [
       " 2      2       \n",
       "x  + 3⋅y ⋅sin(x)"
      ]
     },
     "execution_count": 176,
     "metadata": {},
     "output_type": "execute_result"
    }
   ],
   "source": [
    "print('Differentiating with respect to y')\n",
    "diff(x**2*y+y**3*sin(x), y)"
   ]
  },
  {
   "cell_type": "markdown",
   "id": "f0aa1e36",
   "metadata": {},
   "source": [
    "## 7. Create a Python nested dictionary to represent hierarchical information. We want to store record of students and their marks. Something like:\n",
    "\n",
    "2022\n",
    "Branch 1\n",
    "Roll Number: 1, Name: N, Marks:\n",
    "Maths: 100, English: 70 …\n",
    "Branch 2\n",
    "2023\n",
    "Branch 1\n",
    "Branch 2\n",
    "2024\n",
    "Branch 1\n",
    "Branch 2\n",
    "2025\n",
    "Branch 1\n",
    "Branch 2\n"
   ]
  },
  {
   "cell_type": "code",
   "execution_count": 79,
   "id": "e19163b5",
   "metadata": {},
   "outputs": [
    {
     "data": {
      "text/plain": [
       "{'2022': {'Branch1': [{'RollNo': 1,\n",
       "    'Name': 'Student 1',\n",
       "    'Marks': {'Maths': 100, 'English': 70}}],\n",
       "  'Branch2': {}},\n",
       " '2023': {'Branch1': {}, 'Branch2': {}},\n",
       " '2024': {'Branch1': {}, 'Branch2': {}},\n",
       " '2025': {'Branch1': {}, 'Branch2': {}}}"
      ]
     },
     "execution_count": 79,
     "metadata": {},
     "output_type": "execute_result"
    }
   ],
   "source": [
    "stu_marks = {'2022':\n",
    "                 {'Branch1':\n",
    "                      [{'RollNo':1,\n",
    "                       'Name':'Student 1',\n",
    "                       'Marks':\n",
    "                           {'Maths':100,\n",
    "                            'English':70}\n",
    "                       }],\n",
    "                  'Branch2':{}\n",
    "                 },\n",
    "            '2023':\n",
    "                 {'Branch1':{},\n",
    "                  'Branch2':{}\n",
    "                 },\n",
    "            '2024':\n",
    "                 {'Branch1':{},\n",
    "                  'Branch2':{}\n",
    "                 },\n",
    "            '2025':\n",
    "                 {'Branch1':{},\n",
    "                  'Branch2':{}\n",
    "                 }\n",
    "             \n",
    "            }\n",
    "stu_marks"
   ]
  },
  {
   "cell_type": "markdown",
   "id": "df68540b",
   "metadata": {},
   "source": [
    "## 8. Store the same information using Python classes. We have an overall database which is a list of year objects. Each year contains a list of branches. Each branch contains a list of students. Each student has some properties like name, roll number and has marks in some subjects."
   ]
  },
  {
   "cell_type": "code",
   "execution_count": 99,
   "id": "0e48ad5c",
   "metadata": {},
   "outputs": [
    {
     "data": {
      "text/plain": [
       "{2022: {'Branch1': [{'RollNo': 1,\n",
       "    'Name': 'Student1',\n",
       "    'Marks': {'Maths': 40, 'English': 30}},\n",
       "   {'RollNo': 2, 'Name': 'Student2', 'Marks': {'Maths': 40, 'English': 30}}],\n",
       "  'Branch2': [{'RollNo': 1,\n",
       "    'Name': 'Student1',\n",
       "    'Marks': {'Maths': 40, 'English': 30}},\n",
       "   {'RollNo': 2, 'Name': 'Student2', 'Marks': {'Maths': 40, 'English': 30}}]},\n",
       " 2023: {'Branch1': [{'RollNo': 1,\n",
       "    'Name': 'Student1',\n",
       "    'Marks': {'Maths': 40, 'English': 30}},\n",
       "   {'RollNo': 2, 'Name': 'Student2', 'Marks': {'Maths': 40, 'English': 30}}],\n",
       "  'Branch2': [{'RollNo': 1,\n",
       "    'Name': 'Student1',\n",
       "    'Marks': {'Maths': 40, 'English': 30}},\n",
       "   {'RollNo': 2, 'Name': 'Student2', 'Marks': {'Maths': 40, 'English': 30}}]}}"
      ]
     },
     "execution_count": 99,
     "metadata": {},
     "output_type": "execute_result"
    }
   ],
   "source": [
    "class Student:\n",
    "    def __init__(self,rollno,name,marks):\n",
    "        self.rollno = rollno\n",
    "        self.name = name\n",
    "        self.marks = marks\n",
    "\n",
    "        \n",
    "class Branch:\n",
    "    def __init__(self,branch):\n",
    "        self.branch = branch\n",
    "        self.students = []\n",
    "        self.total = {}\n",
    "        \n",
    "    def add_student(self,stu):\n",
    "        self.students.append({'RollNo':stu.rollno,'Name':stu.name,'Marks':stu.marks})\n",
    "        self.total[self.branch] = self.students\n",
    "        return self.total\n",
    "\n",
    "class Year:\n",
    "    def __init__(self,year):\n",
    "        self.year = year\n",
    "        self.branches = {}\n",
    "        self.total = {}\n",
    "        \n",
    "    def add_branch(self,branch):\n",
    "        self.branches.update(branch)\n",
    "        self.total[self.year] = self.branches\n",
    "        return self.total\n",
    "\n",
    "class Database:\n",
    "    def __init__(self):\n",
    "        self.db = {}\n",
    "    \n",
    "    def add_db(self, year):\n",
    "        self.db.update(year)\n",
    "        return self.db\n",
    "        \n",
    "#Students of Branch1        \n",
    "s1 = Student(1,'Student1',{'Maths':40,'English':30})\n",
    "b = Branch('Branch1')\n",
    "b.add_student(s1)\n",
    "s2 = Student(2,'Student2',{'Maths':40,'English':30})\n",
    "r = b.add_student(s2)\n",
    "\n",
    "y = Year(2022)\n",
    "y.add_branch(r)\n",
    "\n",
    "#Students of Branch2\n",
    "s1 = Student(1,'Student1',{'Maths':40,'English':30})\n",
    "b = Branch('Branch2')\n",
    "b.add_student(s1)\n",
    "s2 = Student(2,'Student2',{'Maths':40,'English':30})\n",
    "r = b.add_student(s2)\n",
    "#Branch of Year 2022\n",
    "k = y.add_branch(r)\n",
    "\n",
    "db = Database()\n",
    "db.add_db( k )\n",
    "\n",
    "\n",
    "#Students of Branch1        \n",
    "s1 = Student(1,'Student1',{'Maths':40,'English':30})\n",
    "b = Branch('Branch1')\n",
    "b.add_student(s1)\n",
    "s2 = Student(2,'Student2',{'Maths':40,'English':30})\n",
    "r = b.add_student(s2)\n",
    "\n",
    "y = Year(2023)\n",
    "y.add_branch(r)\n",
    "\n",
    "#Students of Branch2\n",
    "s1 = Student(1,'Student1',{'Maths':40,'English':30})\n",
    "b = Branch('Branch2')\n",
    "b.add_student(s1)\n",
    "s2 = Student(2,'Student2',{'Maths':40,'English':30})\n",
    "r = b.add_student(s2)\n",
    "#Branch of Year 2023\n",
    "k = y.add_branch(r)\n",
    "\n",
    "db.add_db( k )"
   ]
  },
  {
   "cell_type": "markdown",
   "id": "e48eed98",
   "metadata": {},
   "source": [
    "## 9. Using matplotlib plot the following functions on the domain: x = 0.5 to 100.0 in steps of 0.5."
   ]
  },
  {
   "cell_type": "code",
   "execution_count": 2,
   "id": "e00a7b32",
   "metadata": {},
   "outputs": [],
   "source": [
    "import matplotlib.pyplot as plt"
   ]
  },
  {
   "cell_type": "code",
   "execution_count": 47,
   "id": "bf505488",
   "metadata": {},
   "outputs": [
    {
     "data": {
      "text/plain": [
       "[<matplotlib.lines.Line2D at 0x16038052e20>]"
      ]
     },
     "execution_count": 47,
     "metadata": {},
     "output_type": "execute_result"
    },
    {
     "data": {
      "image/png": "[encoded data removed]",
      "text/plain": [
       "<Figure size 640x480 with 1 Axes>"
      ]
     },
     "metadata": {},
     "output_type": "display_data"
    }
   ],
   "source": [
    "#y = x\n",
    "\n",
    "x = np.arange(1,201)\n",
    "x = x/2\n",
    "y1 = x\n",
    "plt.plot(x , y1)"
   ]
  },
  {
   "cell_type": "code",
   "execution_count": 48,
   "id": "530bf394",
   "metadata": {},
   "outputs": [
    {
     "data": {
      "text/plain": [
       "[<matplotlib.lines.Line2D at 0x16036f5d250>]"
      ]
     },
     "execution_count": 48,
     "metadata": {},
     "output_type": "execute_result"
    },
    {
     "data": {
      "image/png": "[encoded data removed]",
      "text/plain": [
       "<Figure size 640x480 with 1 Axes>"
      ]
     },
     "metadata": {},
     "output_type": "display_data"
    }
   ],
   "source": [
    "# y = x*x\n",
    "x = np.arange(1,201)\n",
    "x = x/2\n",
    "y=x*x\n",
    "plt.plot(x , y)"
   ]
  },
  {
   "cell_type": "code",
   "execution_count": 41,
   "id": "b7218db4",
   "metadata": {},
   "outputs": [
    {
     "data": {
      "text/plain": [
       "[<matplotlib.lines.Line2D at 0x16035a02d00>]"
      ]
     },
     "execution_count": 41,
     "metadata": {},
     "output_type": "execute_result"
    },
    {
     "data": {
      "image/png": "[encoded data removed]",
      "text/plain": [
       "<Figure size 640x480 with 1 Axes>"
      ]
     },
     "metadata": {},
     "output_type": "display_data"
    }
   ],
   "source": [
    "y = (x*x*x)/100\n",
    "plt.plot(x , y)"
   ]
  },
  {
   "cell_type": "code",
   "execution_count": 49,
   "id": "825c2600",
   "metadata": {},
   "outputs": [
    {
     "data": {
      "text/plain": [
       "[<matplotlib.lines.Line2D at 0x16036fc5160>]"
      ]
     },
     "execution_count": 49,
     "metadata": {},
     "output_type": "execute_result"
    },
    {
     "data": {
      "image/png": "[encoded data removed]",
      "text/plain": [
       "<Figure size 640x480 with 1 Axes>"
      ]
     },
     "metadata": {},
     "output_type": "display_data"
    }
   ],
   "source": [
    "y = np.sin(x)\n",
    "plt.plot(x,y)"
   ]
  },
  {
   "cell_type": "code",
   "execution_count": 50,
   "id": "3525b727",
   "metadata": {},
   "outputs": [
    {
     "data": {
      "text/plain": [
       "[<matplotlib.lines.Line2D at 0x16036fe1670>]"
      ]
     },
     "execution_count": 50,
     "metadata": {},
     "output_type": "execute_result"
    },
    {
     "data": {
      "image/png": "[encoded data removed]",
      "text/plain": [
       "<Figure size 640x480 with 1 Axes>"
      ]
     },
     "metadata": {},
     "output_type": "display_data"
    }
   ],
   "source": [
    "y = np.sin(x) / x\n",
    "plt.plot(x,y)"
   ]
  },
  {
   "cell_type": "code",
   "execution_count": 51,
   "id": "fbe5f4d6",
   "metadata": {},
   "outputs": [
    {
     "data": {
      "text/plain": [
       "[<matplotlib.lines.Line2D at 0x16038540400>]"
      ]
     },
     "execution_count": 51,
     "metadata": {},
     "output_type": "execute_result"
    },
    {
     "data": {
      "image/png": "[encoded data removed]",
      "text/plain": [
       "<Figure size 640x480 with 1 Axes>"
      ]
     },
     "metadata": {},
     "output_type": "display_data"
    }
   ],
   "source": [
    "y = np.log(x)\n",
    "plt.plot(x ,  y)"
   ]
  },
  {
   "cell_type": "code",
   "execution_count": 53,
   "id": "6773aa7e",
   "metadata": {},
   "outputs": [
    {
     "data": {
      "text/plain": [
       "[<matplotlib.lines.Line2D at 0x16038595520>]"
      ]
     },
     "execution_count": 53,
     "metadata": {},
     "output_type": "execute_result"
    },
    {
     "data": {
      "image/png": "[encoded data removed]",
      "text/plain": [
       "<Figure size 640x480 with 1 Axes>"
      ]
     },
     "metadata": {},
     "output_type": "display_data"
    }
   ],
   "source": [
    "y = np.exp(x)\n",
    "plt.plot(x , y)"
   ]
  },
  {
   "cell_type": "markdown",
   "id": "14cb1996",
   "metadata": {},
   "source": [
    "## 10. Using numpy generate a matrix of size 20X5 containing random numbers drawn uniformly from the range of 1 to 2. Using Pandas create a dataframe out of this matrix. Name the columns of the dataframe as “a”, “b”, “c”, “d”, “e”. Find the column with the highest standard deviation. Find the row with the lowest mean."
   ]
  },
  {
   "cell_type": "code",
   "execution_count": 87,
   "id": "2aabc1c0",
   "metadata": {},
   "outputs": [
    {
     "name": "stdout",
     "output_type": "stream",
     "text": [
      "Dataframe\n",
      "            a         b         c         d         e\n",
      "0   1.985508  1.764329  1.688401  1.563127  1.355925\n",
      "1   1.520309  1.823766  1.469232  1.695501  1.822942\n",
      "2   1.695177  1.730204  1.324141  1.736408  1.977167\n",
      "3   1.825850  1.329269  1.884393  1.765336  1.624951\n",
      "4   1.466299  1.762188  1.924624  1.933195  1.418064\n",
      "5   1.680932  1.420339  1.537208  1.229902  1.412667\n",
      "6   1.298672  1.231848  1.650938  1.331979  1.919129\n",
      "7   1.192117  1.637496  1.297408  1.401359  1.577081\n",
      "8   1.758849  1.372867  1.050061  1.294228  1.459766\n",
      "9   1.644283  1.579055  1.594805  1.621842  1.359368\n",
      "10  1.153081  1.686939  1.812532  1.223365  1.056101\n",
      "11  1.451182  1.375395  1.256230  1.710395  1.795837\n",
      "12  1.515343  1.650181  1.179873  1.421039  1.422790\n",
      "13  1.703784  1.951284  1.917336  1.578577  1.774464\n",
      "14  1.059532  1.570016  1.125307  1.126026  1.878275\n",
      "15  1.646657  1.366028  1.521037  1.475123  1.661521\n",
      "16  1.466039  1.188670  1.497133  1.443654  1.410729\n",
      "17  1.407914  1.044854  1.021887  1.541348  1.181089\n",
      "18  1.427440  1.592421  1.759758  1.710663  1.228295\n",
      "19  1.185216  1.955167  1.599901  1.129888  1.610030 \n",
      "\n",
      "Column with highest Standard deviation:  2 \t Row with lowest mean:  17\n"
     ]
    }
   ],
   "source": [
    "import pandas as pd\n",
    "matrix20by5 = np.random.uniform(1,2,(20,5))\n",
    "df = pd.DataFrame(matrix20by5, columns = ['a','b','c','d','e'])\n",
    "dfmin=df.mean(axis = 1).argmin()\n",
    "dfmax=df.std(axis = 0).argmax()\n",
    "print('Dataframe\\n',df,'\\n')\n",
    "print('Column with highest Standard deviation: ',dfmax,'\\t', 'Row with lowest mean: ',dfmin)"
   ]
  },
  {
   "cell_type": "markdown",
   "id": "d5ec2bce",
   "metadata": {},
   "source": [
    "## 11. Add a new column to the dataframe called “f” which is the sum of the columns “a”, “b”, “c”, “d”, “e”. Create another column called “g”. The value in the column “g” should be “LT8” if the value in the column “f” is less than 8 and “GT8” otherwise. Find the number of rows in the dataframe where the value in the column “g” is “LT8”. Find the standard deviation of the column “f” for the rows where the value in the column “g” is “LT8” and “GT8” respectively."
   ]
  },
  {
   "cell_type": "code",
   "execution_count": 127,
   "id": "a53acf58",
   "metadata": {},
   "outputs": [
    {
     "data": {
      "text/html": [
       "<div>\n",
       "<style scoped>\n",
       "    .dataframe tbody tr th:only-of-type {\n",
       "        vertical-align: middle;\n",
       "    }\n",
       "\n",
       "    .dataframe tbody tr th {\n",
       "        vertical-align: top;\n",
       "    }\n",
       "\n",
       "    .dataframe thead th {\n",
       "        text-align: right;\n",
       "    }\n",
       "</style>\n",
       "<table border=\"1\" class=\"dataframe\">\n",
       "  <thead>\n",
       "    <tr style=\"text-align: right;\">\n",
       "      <th></th>\n",
       "      <th>a</th>\n",
       "      <th>b</th>\n",
       "      <th>c</th>\n",
       "      <th>d</th>\n",
       "      <th>e</th>\n",
       "      <th>f</th>\n",
       "    </tr>\n",
       "  </thead>\n",
       "  <tbody>\n",
       "    <tr>\n",
       "      <th>0</th>\n",
       "      <td>1.985508</td>\n",
       "      <td>1.764329</td>\n",
       "      <td>1.688401</td>\n",
       "      <td>1.563127</td>\n",
       "      <td>1.355925</td>\n",
       "      <td>8.357289</td>\n",
       "    </tr>\n",
       "    <tr>\n",
       "      <th>1</th>\n",
       "      <td>1.520309</td>\n",
       "      <td>1.823766</td>\n",
       "      <td>1.469232</td>\n",
       "      <td>1.695501</td>\n",
       "      <td>1.822942</td>\n",
       "      <td>8.331750</td>\n",
       "    </tr>\n",
       "    <tr>\n",
       "      <th>2</th>\n",
       "      <td>1.695177</td>\n",
       "      <td>1.730204</td>\n",
       "      <td>1.324141</td>\n",
       "      <td>1.736408</td>\n",
       "      <td>1.977167</td>\n",
       "      <td>8.463097</td>\n",
       "    </tr>\n",
       "    <tr>\n",
       "      <th>3</th>\n",
       "      <td>1.825850</td>\n",
       "      <td>1.329269</td>\n",
       "      <td>1.884393</td>\n",
       "      <td>1.765336</td>\n",
       "      <td>1.624951</td>\n",
       "      <td>8.429799</td>\n",
       "    </tr>\n",
       "    <tr>\n",
       "      <th>4</th>\n",
       "      <td>1.466299</td>\n",
       "      <td>1.762188</td>\n",
       "      <td>1.924624</td>\n",
       "      <td>1.933195</td>\n",
       "      <td>1.418064</td>\n",
       "      <td>8.504370</td>\n",
       "    </tr>\n",
       "    <tr>\n",
       "      <th>5</th>\n",
       "      <td>1.680932</td>\n",
       "      <td>1.420339</td>\n",
       "      <td>1.537208</td>\n",
       "      <td>1.229902</td>\n",
       "      <td>1.412667</td>\n",
       "      <td>7.281048</td>\n",
       "    </tr>\n",
       "    <tr>\n",
       "      <th>6</th>\n",
       "      <td>1.298672</td>\n",
       "      <td>1.231848</td>\n",
       "      <td>1.650938</td>\n",
       "      <td>1.331979</td>\n",
       "      <td>1.919129</td>\n",
       "      <td>7.432567</td>\n",
       "    </tr>\n",
       "    <tr>\n",
       "      <th>7</th>\n",
       "      <td>1.192117</td>\n",
       "      <td>1.637496</td>\n",
       "      <td>1.297408</td>\n",
       "      <td>1.401359</td>\n",
       "      <td>1.577081</td>\n",
       "      <td>7.105462</td>\n",
       "    </tr>\n",
       "    <tr>\n",
       "      <th>8</th>\n",
       "      <td>1.758849</td>\n",
       "      <td>1.372867</td>\n",
       "      <td>1.050061</td>\n",
       "      <td>1.294228</td>\n",
       "      <td>1.459766</td>\n",
       "      <td>6.935771</td>\n",
       "    </tr>\n",
       "    <tr>\n",
       "      <th>9</th>\n",
       "      <td>1.644283</td>\n",
       "      <td>1.579055</td>\n",
       "      <td>1.594805</td>\n",
       "      <td>1.621842</td>\n",
       "      <td>1.359368</td>\n",
       "      <td>7.799353</td>\n",
       "    </tr>\n",
       "    <tr>\n",
       "      <th>10</th>\n",
       "      <td>1.153081</td>\n",
       "      <td>1.686939</td>\n",
       "      <td>1.812532</td>\n",
       "      <td>1.223365</td>\n",
       "      <td>1.056101</td>\n",
       "      <td>6.932018</td>\n",
       "    </tr>\n",
       "    <tr>\n",
       "      <th>11</th>\n",
       "      <td>1.451182</td>\n",
       "      <td>1.375395</td>\n",
       "      <td>1.256230</td>\n",
       "      <td>1.710395</td>\n",
       "      <td>1.795837</td>\n",
       "      <td>7.589039</td>\n",
       "    </tr>\n",
       "    <tr>\n",
       "      <th>12</th>\n",
       "      <td>1.515343</td>\n",
       "      <td>1.650181</td>\n",
       "      <td>1.179873</td>\n",
       "      <td>1.421039</td>\n",
       "      <td>1.422790</td>\n",
       "      <td>7.189226</td>\n",
       "    </tr>\n",
       "    <tr>\n",
       "      <th>13</th>\n",
       "      <td>1.703784</td>\n",
       "      <td>1.951284</td>\n",
       "      <td>1.917336</td>\n",
       "      <td>1.578577</td>\n",
       "      <td>1.774464</td>\n",
       "      <td>8.925445</td>\n",
       "    </tr>\n",
       "    <tr>\n",
       "      <th>14</th>\n",
       "      <td>1.059532</td>\n",
       "      <td>1.570016</td>\n",
       "      <td>1.125307</td>\n",
       "      <td>1.126026</td>\n",
       "      <td>1.878275</td>\n",
       "      <td>6.759156</td>\n",
       "    </tr>\n",
       "    <tr>\n",
       "      <th>15</th>\n",
       "      <td>1.646657</td>\n",
       "      <td>1.366028</td>\n",
       "      <td>1.521037</td>\n",
       "      <td>1.475123</td>\n",
       "      <td>1.661521</td>\n",
       "      <td>7.670365</td>\n",
       "    </tr>\n",
       "    <tr>\n",
       "      <th>16</th>\n",
       "      <td>1.466039</td>\n",
       "      <td>1.188670</td>\n",
       "      <td>1.497133</td>\n",
       "      <td>1.443654</td>\n",
       "      <td>1.410729</td>\n",
       "      <td>7.006224</td>\n",
       "    </tr>\n",
       "    <tr>\n",
       "      <th>17</th>\n",
       "      <td>1.407914</td>\n",
       "      <td>1.044854</td>\n",
       "      <td>1.021887</td>\n",
       "      <td>1.541348</td>\n",
       "      <td>1.181089</td>\n",
       "      <td>6.197092</td>\n",
       "    </tr>\n",
       "    <tr>\n",
       "      <th>18</th>\n",
       "      <td>1.427440</td>\n",
       "      <td>1.592421</td>\n",
       "      <td>1.759758</td>\n",
       "      <td>1.710663</td>\n",
       "      <td>1.228295</td>\n",
       "      <td>7.718575</td>\n",
       "    </tr>\n",
       "    <tr>\n",
       "      <th>19</th>\n",
       "      <td>1.185216</td>\n",
       "      <td>1.955167</td>\n",
       "      <td>1.599901</td>\n",
       "      <td>1.129888</td>\n",
       "      <td>1.610030</td>\n",
       "      <td>7.480203</td>\n",
       "    </tr>\n",
       "  </tbody>\n",
       "</table>\n",
       "</div>"
      ],
      "text/plain": [
       "           a         b         c         d         e         f\n",
       "0   1.985508  1.764329  1.688401  1.563127  1.355925  8.357289\n",
       "1   1.520309  1.823766  1.469232  1.695501  1.822942  8.331750\n",
       "2   1.695177  1.730204  1.324141  1.736408  1.977167  8.463097\n",
       "3   1.825850  1.329269  1.884393  1.765336  1.624951  8.429799\n",
       "4   1.466299  1.762188  1.924624  1.933195  1.418064  8.504370\n",
       "5   1.680932  1.420339  1.537208  1.229902  1.412667  7.281048\n",
       "6   1.298672  1.231848  1.650938  1.331979  1.919129  7.432567\n",
       "7   1.192117  1.637496  1.297408  1.401359  1.577081  7.105462\n",
       "8   1.758849  1.372867  1.050061  1.294228  1.459766  6.935771\n",
       "9   1.644283  1.579055  1.594805  1.621842  1.359368  7.799353\n",
       "10  1.153081  1.686939  1.812532  1.223365  1.056101  6.932018\n",
       "11  1.451182  1.375395  1.256230  1.710395  1.795837  7.589039\n",
       "12  1.515343  1.650181  1.179873  1.421039  1.422790  7.189226\n",
       "13  1.703784  1.951284  1.917336  1.578577  1.774464  8.925445\n",
       "14  1.059532  1.570016  1.125307  1.126026  1.878275  6.759156\n",
       "15  1.646657  1.366028  1.521037  1.475123  1.661521  7.670365\n",
       "16  1.466039  1.188670  1.497133  1.443654  1.410729  7.006224\n",
       "17  1.407914  1.044854  1.021887  1.541348  1.181089  6.197092\n",
       "18  1.427440  1.592421  1.759758  1.710663  1.228295  7.718575\n",
       "19  1.185216  1.955167  1.599901  1.129888  1.610030  7.480203"
      ]
     },
     "execution_count": 127,
     "metadata": {},
     "output_type": "execute_result"
    }
   ],
   "source": [
    "df['f'] = df.sum(axis = 1)\n",
    "df"
   ]
  },
  {
   "cell_type": "code",
   "execution_count": 130,
   "id": "bf704562",
   "metadata": {},
   "outputs": [
    {
     "data": {
      "text/html": [
       "<div>\n",
       "<style scoped>\n",
       "    .dataframe tbody tr th:only-of-type {\n",
       "        vertical-align: middle;\n",
       "    }\n",
       "\n",
       "    .dataframe tbody tr th {\n",
       "        vertical-align: top;\n",
       "    }\n",
       "\n",
       "    .dataframe thead th {\n",
       "        text-align: right;\n",
       "    }\n",
       "</style>\n",
       "<table border=\"1\" class=\"dataframe\">\n",
       "  <thead>\n",
       "    <tr style=\"text-align: right;\">\n",
       "      <th></th>\n",
       "      <th>a</th>\n",
       "      <th>b</th>\n",
       "      <th>c</th>\n",
       "      <th>d</th>\n",
       "      <th>e</th>\n",
       "      <th>f</th>\n",
       "      <th>g</th>\n",
       "    </tr>\n",
       "  </thead>\n",
       "  <tbody>\n",
       "    <tr>\n",
       "      <th>0</th>\n",
       "      <td>1.985508</td>\n",
       "      <td>1.764329</td>\n",
       "      <td>1.688401</td>\n",
       "      <td>1.563127</td>\n",
       "      <td>1.355925</td>\n",
       "      <td>8.357289</td>\n",
       "      <td>GT8</td>\n",
       "    </tr>\n",
       "    <tr>\n",
       "      <th>1</th>\n",
       "      <td>1.520309</td>\n",
       "      <td>1.823766</td>\n",
       "      <td>1.469232</td>\n",
       "      <td>1.695501</td>\n",
       "      <td>1.822942</td>\n",
       "      <td>8.331750</td>\n",
       "      <td>GT8</td>\n",
       "    </tr>\n",
       "    <tr>\n",
       "      <th>2</th>\n",
       "      <td>1.695177</td>\n",
       "      <td>1.730204</td>\n",
       "      <td>1.324141</td>\n",
       "      <td>1.736408</td>\n",
       "      <td>1.977167</td>\n",
       "      <td>8.463097</td>\n",
       "      <td>GT8</td>\n",
       "    </tr>\n",
       "    <tr>\n",
       "      <th>3</th>\n",
       "      <td>1.825850</td>\n",
       "      <td>1.329269</td>\n",
       "      <td>1.884393</td>\n",
       "      <td>1.765336</td>\n",
       "      <td>1.624951</td>\n",
       "      <td>8.429799</td>\n",
       "      <td>GT8</td>\n",
       "    </tr>\n",
       "    <tr>\n",
       "      <th>4</th>\n",
       "      <td>1.466299</td>\n",
       "      <td>1.762188</td>\n",
       "      <td>1.924624</td>\n",
       "      <td>1.933195</td>\n",
       "      <td>1.418064</td>\n",
       "      <td>8.504370</td>\n",
       "      <td>GT8</td>\n",
       "    </tr>\n",
       "    <tr>\n",
       "      <th>5</th>\n",
       "      <td>1.680932</td>\n",
       "      <td>1.420339</td>\n",
       "      <td>1.537208</td>\n",
       "      <td>1.229902</td>\n",
       "      <td>1.412667</td>\n",
       "      <td>7.281048</td>\n",
       "      <td>LT8</td>\n",
       "    </tr>\n",
       "    <tr>\n",
       "      <th>6</th>\n",
       "      <td>1.298672</td>\n",
       "      <td>1.231848</td>\n",
       "      <td>1.650938</td>\n",
       "      <td>1.331979</td>\n",
       "      <td>1.919129</td>\n",
       "      <td>7.432567</td>\n",
       "      <td>LT8</td>\n",
       "    </tr>\n",
       "    <tr>\n",
       "      <th>7</th>\n",
       "      <td>1.192117</td>\n",
       "      <td>1.637496</td>\n",
       "      <td>1.297408</td>\n",
       "      <td>1.401359</td>\n",
       "      <td>1.577081</td>\n",
       "      <td>7.105462</td>\n",
       "      <td>LT8</td>\n",
       "    </tr>\n",
       "    <tr>\n",
       "      <th>8</th>\n",
       "      <td>1.758849</td>\n",
       "      <td>1.372867</td>\n",
       "      <td>1.050061</td>\n",
       "      <td>1.294228</td>\n",
       "      <td>1.459766</td>\n",
       "      <td>6.935771</td>\n",
       "      <td>LT8</td>\n",
       "    </tr>\n",
       "    <tr>\n",
       "      <th>9</th>\n",
       "      <td>1.644283</td>\n",
       "      <td>1.579055</td>\n",
       "      <td>1.594805</td>\n",
       "      <td>1.621842</td>\n",
       "      <td>1.359368</td>\n",
       "      <td>7.799353</td>\n",
       "      <td>LT8</td>\n",
       "    </tr>\n",
       "    <tr>\n",
       "      <th>10</th>\n",
       "      <td>1.153081</td>\n",
       "      <td>1.686939</td>\n",
       "      <td>1.812532</td>\n",
       "      <td>1.223365</td>\n",
       "      <td>1.056101</td>\n",
       "      <td>6.932018</td>\n",
       "      <td>LT8</td>\n",
       "    </tr>\n",
       "    <tr>\n",
       "      <th>11</th>\n",
       "      <td>1.451182</td>\n",
       "      <td>1.375395</td>\n",
       "      <td>1.256230</td>\n",
       "      <td>1.710395</td>\n",
       "      <td>1.795837</td>\n",
       "      <td>7.589039</td>\n",
       "      <td>LT8</td>\n",
       "    </tr>\n",
       "    <tr>\n",
       "      <th>12</th>\n",
       "      <td>1.515343</td>\n",
       "      <td>1.650181</td>\n",
       "      <td>1.179873</td>\n",
       "      <td>1.421039</td>\n",
       "      <td>1.422790</td>\n",
       "      <td>7.189226</td>\n",
       "      <td>LT8</td>\n",
       "    </tr>\n",
       "    <tr>\n",
       "      <th>13</th>\n",
       "      <td>1.703784</td>\n",
       "      <td>1.951284</td>\n",
       "      <td>1.917336</td>\n",
       "      <td>1.578577</td>\n",
       "      <td>1.774464</td>\n",
       "      <td>8.925445</td>\n",
       "      <td>GT8</td>\n",
       "    </tr>\n",
       "    <tr>\n",
       "      <th>14</th>\n",
       "      <td>1.059532</td>\n",
       "      <td>1.570016</td>\n",
       "      <td>1.125307</td>\n",
       "      <td>1.126026</td>\n",
       "      <td>1.878275</td>\n",
       "      <td>6.759156</td>\n",
       "      <td>LT8</td>\n",
       "    </tr>\n",
       "    <tr>\n",
       "      <th>15</th>\n",
       "      <td>1.646657</td>\n",
       "      <td>1.366028</td>\n",
       "      <td>1.521037</td>\n",
       "      <td>1.475123</td>\n",
       "      <td>1.661521</td>\n",
       "      <td>7.670365</td>\n",
       "      <td>LT8</td>\n",
       "    </tr>\n",
       "    <tr>\n",
       "      <th>16</th>\n",
       "      <td>1.466039</td>\n",
       "      <td>1.188670</td>\n",
       "      <td>1.497133</td>\n",
       "      <td>1.443654</td>\n",
       "      <td>1.410729</td>\n",
       "      <td>7.006224</td>\n",
       "      <td>LT8</td>\n",
       "    </tr>\n",
       "    <tr>\n",
       "      <th>17</th>\n",
       "      <td>1.407914</td>\n",
       "      <td>1.044854</td>\n",
       "      <td>1.021887</td>\n",
       "      <td>1.541348</td>\n",
       "      <td>1.181089</td>\n",
       "      <td>6.197092</td>\n",
       "      <td>LT8</td>\n",
       "    </tr>\n",
       "    <tr>\n",
       "      <th>18</th>\n",
       "      <td>1.427440</td>\n",
       "      <td>1.592421</td>\n",
       "      <td>1.759758</td>\n",
       "      <td>1.710663</td>\n",
       "      <td>1.228295</td>\n",
       "      <td>7.718575</td>\n",
       "      <td>LT8</td>\n",
       "    </tr>\n",
       "    <tr>\n",
       "      <th>19</th>\n",
       "      <td>1.185216</td>\n",
       "      <td>1.955167</td>\n",
       "      <td>1.599901</td>\n",
       "      <td>1.129888</td>\n",
       "      <td>1.610030</td>\n",
       "      <td>7.480203</td>\n",
       "      <td>LT8</td>\n",
       "    </tr>\n",
       "  </tbody>\n",
       "</table>\n",
       "</div>"
      ],
      "text/plain": [
       "           a         b         c         d         e         f    g\n",
       "0   1.985508  1.764329  1.688401  1.563127  1.355925  8.357289  GT8\n",
       "1   1.520309  1.823766  1.469232  1.695501  1.822942  8.331750  GT8\n",
       "2   1.695177  1.730204  1.324141  1.736408  1.977167  8.463097  GT8\n",
       "3   1.825850  1.329269  1.884393  1.765336  1.624951  8.429799  GT8\n",
       "4   1.466299  1.762188  1.924624  1.933195  1.418064  8.504370  GT8\n",
       "5   1.680932  1.420339  1.537208  1.229902  1.412667  7.281048  LT8\n",
       "6   1.298672  1.231848  1.650938  1.331979  1.919129  7.432567  LT8\n",
       "7   1.192117  1.637496  1.297408  1.401359  1.577081  7.105462  LT8\n",
       "8   1.758849  1.372867  1.050061  1.294228  1.459766  6.935771  LT8\n",
       "9   1.644283  1.579055  1.594805  1.621842  1.359368  7.799353  LT8\n",
       "10  1.153081  1.686939  1.812532  1.223365  1.056101  6.932018  LT8\n",
       "11  1.451182  1.375395  1.256230  1.710395  1.795837  7.589039  LT8\n",
       "12  1.515343  1.650181  1.179873  1.421039  1.422790  7.189226  LT8\n",
       "13  1.703784  1.951284  1.917336  1.578577  1.774464  8.925445  GT8\n",
       "14  1.059532  1.570016  1.125307  1.126026  1.878275  6.759156  LT8\n",
       "15  1.646657  1.366028  1.521037  1.475123  1.661521  7.670365  LT8\n",
       "16  1.466039  1.188670  1.497133  1.443654  1.410729  7.006224  LT8\n",
       "17  1.407914  1.044854  1.021887  1.541348  1.181089  6.197092  LT8\n",
       "18  1.427440  1.592421  1.759758  1.710663  1.228295  7.718575  LT8\n",
       "19  1.185216  1.955167  1.599901  1.129888  1.610030  7.480203  LT8"
      ]
     },
     "execution_count": 130,
     "metadata": {},
     "output_type": "execute_result"
    }
   ],
   "source": [
    "df['g'] = np.where(df['f'] < 8, 'LT8', 'GT8')\n",
    "df"
   ]
  },
  {
   "cell_type": "code",
   "execution_count": 133,
   "id": "c9584bd0",
   "metadata": {},
   "outputs": [
    {
     "data": {
      "text/plain": [
       "14"
      ]
     },
     "execution_count": 133,
     "metadata": {},
     "output_type": "execute_result"
    }
   ],
   "source": [
    "(df['g']=='LT8').sum()"
   ]
  },
  {
   "cell_type": "code",
   "execution_count": 136,
   "id": "43dd47c5",
   "metadata": {},
   "outputs": [
    {
     "data": {
      "text/plain": [
       "g\n",
       "GT8    0.217239\n",
       "LT8    0.440459\n",
       "Name: f, dtype: float64"
      ]
     },
     "execution_count": 136,
     "metadata": {},
     "output_type": "execute_result"
    }
   ],
   "source": [
    "df1 = df.groupby(by = 'g')['f'].std()\n",
    "df1"
   ]
  },
  {
   "cell_type": "markdown",
   "id": "85ddd9b4",
   "metadata": {},
   "source": [
    "## 12. Write a small piece of code to explain broadcasting in numpy."
   ]
  },
  {
   "cell_type": "code",
   "execution_count": 151,
   "id": "8328c281",
   "metadata": {},
   "outputs": [
    {
     "name": "stdout",
     "output_type": "stream",
     "text": [
      "arr1  [-2.02561713  0.22777206 -1.36498684 -1.66359813  0.56692919]\n",
      "arr2  [[-1.50440134 -1.37866156 -0.71157696  0.98307654  1.96917966]]\n",
      "arr3  [[-3.53001846 -1.1508895  -2.0765638  -0.68052159  2.53610885]]\n"
     ]
    },
    {
     "data": {
      "text/plain": [
       "(1, 5)"
      ]
     },
     "execution_count": 151,
     "metadata": {},
     "output_type": "execute_result"
    }
   ],
   "source": [
    "arr1 = np.random.randn(5)\n",
    "print('arr1 ',arr1)\n",
    "arr2 = np.random.randn(1,5)\n",
    "print('arr2 ',arr2)\n",
    "arr3 = arr1 + arr2\n",
    "print('arr3 ',arr3)\n",
    "arr3.shape"
   ]
  },
  {
   "cell_type": "markdown",
   "id": "fb5a0989",
   "metadata": {},
   "source": [
    "## 13. Write a function to compute the argmin of a numpy array. The function should take a numpy array as input and return the index of the minimum element. You can use the np.argmin function to verify your solution."
   ]
  },
  {
   "cell_type": "code",
   "execution_count": 139,
   "id": "2544b6a3",
   "metadata": {},
   "outputs": [],
   "source": [
    "def arg_min(arr):\n",
    "    tot = len(arr)\n",
    "    min = 0\n",
    "    for i in range(tot):\n",
    "        if(arr[i] < arr[min]):\n",
    "            min = i\n",
    "    return min        "
   ]
  },
  {
   "cell_type": "code",
   "execution_count": 145,
   "id": "e78aa713",
   "metadata": {},
   "outputs": [
    {
     "name": "stdout",
     "output_type": "stream",
     "text": [
      "argmin found using User defined function  6 \n",
      "\n",
      "argmin found using np.argmin function 6 \n",
      "\n",
      "are the outputs of two function same?  True\n"
     ]
    }
   ],
   "source": [
    "arr = np.random.randn(10)\n",
    "out = arg_min(arr)\n",
    "print('argmin found using User defined function ',out, '\\n')\n",
    "print('argmin found using np.argmin function',np.argmin(arr),'\\n')\n",
    "print('are the outputs of two function same? ',out == np.argmin(arr))"
   ]
  }
 ],
 "metadata": {
  "kernelspec": {
   "display_name": "Python 3 (ipykernel)",
   "language": "python",
   "name": "python3"
  },
  "language_info": {
   "codemirror_mode": {
    "name": "ipython",
    "version": 3
   },
   "file_extension": ".py",
   "mimetype": "text/x-python",
   "name": "python",
   "nbconvert_exporter": "python",
   "pygments_lexer": "ipython3",
   "version": "3.9.7"
  }
 },
 "nbformat": 4,
 "nbformat_minor": 5
}
